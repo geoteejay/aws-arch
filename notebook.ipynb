{
 "cells": [
  {
   "cell_type": "code",
   "execution_count": 1,
   "metadata": {},
   "outputs": [],
   "source": [
    "import boto3 "
   ]
  },
  {
   "cell_type": "code",
   "execution_count": 2,
   "metadata": {},
   "outputs": [],
   "source": [
    "comp = boto3.client('comprehend')"
   ]
  },
  {
   "cell_type": "code",
   "execution_count": 5,
   "metadata": {},
   "outputs": [
    {
     "data": {
      "text/plain": [
       "{'Sentiment': 'POSITIVE',\n",
       " 'SentimentScore': {'Positive': 0.998651921749115,\n",
       "  'Negative': 8.19103661342524e-05,\n",
       "  'Neutral': 0.0009153304854407907,\n",
       "  'Mixed': 0.0003508653026074171},\n",
       " 'ResponseMetadata': {'RequestId': '977b5d28-691b-4c0b-a360-4f1931867cd7',\n",
       "  'HTTPStatusCode': 200,\n",
       "  'HTTPHeaders': {'x-amzn-requestid': '977b5d28-691b-4c0b-a360-4f1931867cd7',\n",
       "   'content-type': 'application/x-amz-json-1.1',\n",
       "   'content-length': '163',\n",
       "   'date': 'Sat, 07 May 2022 02:37:46 GMT'},\n",
       "  'RetryAttempts': 0}}"
      ]
     },
     "execution_count": 5,
     "metadata": {},
     "output_type": "execute_result"
    }
   ],
   "source": [
    "comp.detect_sentiment(Text='i love my boy', LanguageCode='en')"
   ]
  },
  {
   "cell_type": "code",
   "execution_count": null,
   "metadata": {},
   "outputs": [],
   "source": []
  }
 ],
 "metadata": {
  "interpreter": {
   "hash": "2f49ecbcab2fc50aa10998b16a5c966efcb81abaaba9d608d817077f8e9cd1a7"
  },
  "kernelspec": {
   "display_name": "Python 3.9.4 ('venv': venv)",
   "language": "python",
   "name": "python3"
  },
  "language_info": {
   "codemirror_mode": {
    "name": "ipython",
    "version": 3
   },
   "file_extension": ".py",
   "mimetype": "text/x-python",
   "name": "python",
   "nbconvert_exporter": "python",
   "pygments_lexer": "ipython3",
   "version": "3.9.4"
  },
  "orig_nbformat": 4
 },
 "nbformat": 4,
 "nbformat_minor": 2
}
